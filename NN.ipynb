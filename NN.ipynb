{
  "nbformat": 4,
  "nbformat_minor": 0,
  "metadata": {
    "colab": {
      "provenance": []
    },
    "kernelspec": {
      "name": "python3",
      "display_name": "Python 3"
    },
    "language_info": {
      "name": "python"
    }
  },
  "cells": [
    {
      "cell_type": "code",
      "execution_count": 62,
      "metadata": {
        "id": "unUKaDkqgvcP"
      },
      "outputs": [],
      "source": [
        "import numpy as np\n",
        "import pandas as pd\n",
        "from matplotlib import pyplot as plt\n",
        "\n",
        "data = pd.read_csv(\"/content/train.csv\")\n",
        "\n",
        "# print(data.head())"
      ]
    },
    {
      "cell_type": "code",
      "source": [
        "data = np.array(data)\n",
        "m, n = data.shape\n",
        "np.random.shuffle(data) # avoid shuffling\n",
        "\n",
        "train_data = data[1000:m].T\n",
        "train_label = train_data[0]\n",
        "train_pixels = train_data[1:n] / 255\n",
        "_,m_train = train_pixels.shape\n",
        "\n",
        "valid_data = data[0:1000].T\n",
        "valid_label = valid_data[0]\n",
        "valid_pixels = valid_data[1:n]"
      ],
      "metadata": {
        "id": "c6MyX_HlhHgS"
      },
      "execution_count": 63,
      "outputs": []
    },
    {
      "cell_type": "code",
      "source": [
        "def init_params():\n",
        "    W1 = np.random.rand(10,784) - 0.5\n",
        "    b1 = np.random.rand(10,1) - 0.5\n",
        "    W2 = np.random.rand(10,10) - 0.5\n",
        "    b2 = np.random.rand(10,1) - 0.5\n",
        "    return W1, b1, W2, b2\n",
        "\n",
        "def forward_prop(W1, b1, W2, b2, pixels):\n",
        "\n",
        "    Z1 = W1.dot(pixels) + b1\n",
        "    A1 = ReLU(Z1)\n",
        "    Z2 = W2.dot(A1) + b2\n",
        "    A2 = softmax(Z2)\n",
        "\n",
        "    return Z1, A1, Z2, A2\n",
        "\n",
        "\n",
        "\n",
        "def ReLU(Z):\n",
        "    return np.maximum(0, Z)\n",
        "\n",
        "def softmax(Z):\n",
        "    return np.exp(Z) / sum(np.exp(Z))\n",
        "\n",
        "\n",
        "# Turn labels into vectors:\n",
        "def one_hot(label):\n",
        "  label = label.astype(int)\n",
        "  one_hot_label = np.zeros((label.size, int(label.max()) + 1))\n",
        "  one_hot_label[np.arange(label.size), label] = 1\n",
        "  one_hot_label = one_hot_label.T\n",
        "  return one_hot_label\n",
        "\n",
        "def ReLU_derivative(Z):\n",
        "    return Z > 0\n",
        "\n",
        "# Calculating how much weights and biases of output and hidden layer contributed to the error.\n",
        "# Return all error gradients to fix weights and biases:\n",
        "def back_prop(Z1, A1, Z2, A2, W1, W2, pixels, label):\n",
        "\n",
        "    m = label.size\n",
        "    one_hot_label = one_hot(label)\n",
        "\n",
        "    dZ2 = A2 - one_hot_label\n",
        "    dW2 = 1 / m * dZ2.dot(A1.T)\n",
        "    db2 = 1 / m * np.sum(dZ2)\n",
        "    dZ1 = W2.T.dot(dZ2) * ReLU_derivative(Z1)\n",
        "    dW1 = 1 / m * dZ1.dot(pixels.T)\n",
        "    db1 = 1 / m * np.sum(dZ1)\n",
        "\n",
        "    return dW1, db1, dW2, db2\n",
        "\n",
        "# Update weights and biases:\n",
        "def update_params(W1, b1, W2, b2, dW1, db1, dW2, db2, alpha):\n",
        "    W1 = W1 - alpha * dW1\n",
        "    W2 = W2 - alpha * dW2\n",
        "\n",
        "    b1 = b1 - alpha * db1\n",
        "    b2 = b2 - alpha * db2\n",
        "\n",
        "    return W1, b1, W2, b2"
      ],
      "metadata": {
        "id": "A1y4G_R4hLE7"
      },
      "execution_count": 64,
      "outputs": []
    },
    {
      "cell_type": "code",
      "source": [
        "def accuracy(predictions, label):\n",
        "    print(predictions, label)\n",
        "    return np.sum(predictions == label) / label.size\n",
        "\n",
        "def prediction(A2):\n",
        "    return np.argmax(A2, 0)\n",
        "\n",
        "def gradient_descent(pixels, label, iterations, alpha):\n",
        "    W1, b1, W2, b2 = init_params()\n",
        "    for i in range(iterations):\n",
        "        Z1, A1, Z2, A2 = forward_prop(W1, b1, W2, b2, pixels)\n",
        "        dW1, db1, dW2, db2 = back_prop(Z1, A1, Z2, A2, W1, W2, pixels, label)\n",
        "        W1, b1, W2, b2 = update_params(W1, b1, W2, b2, dW1, db1, dW2, db2, alpha)\n",
        "\n",
        "        if (i % 10 == 0):\n",
        "            print(\"Iteration: \", i)\n",
        "            print(\"Accuracy:\", accuracy(prediction(A2), label))\n",
        "\n",
        "    return W1, b1, W2, b2\n",
        "\n"
      ],
      "metadata": {
        "id": "erPmWDfDiFAO"
      },
      "execution_count": 65,
      "outputs": []
    },
    {
      "cell_type": "code",
      "source": [
        "W1, b1, W2, b2 = gradient_descent(train_pixels, train_label, 500, 0.10)"
      ],
      "metadata": {
        "colab": {
          "base_uri": "https://localhost:8080/"
        },
        "id": "QFRj4ZCckhUP",
        "outputId": "e0162a33-4874-4860-e040-fc78ba65caac"
      },
      "execution_count": 70,
      "outputs": [
        {
          "output_type": "stream",
          "name": "stdout",
          "text": [
            "Iteration:  0\n",
            "[8 6 0 ... 0 0 9] [7 3 8 ... 1 9 4]\n",
            "Accuracy: 0.10841463414634146\n",
            "Iteration:  10\n",
            "[8 6 0 ... 9 8 9] [7 3 8 ... 1 9 4]\n",
            "Accuracy: 0.22941463414634147\n",
            "Iteration:  20\n",
            "[8 4 8 ... 9 8 4] [7 3 8 ... 1 9 4]\n",
            "Accuracy: 0.3189268292682927\n",
            "Iteration:  30\n",
            "[8 4 8 ... 1 8 4] [7 3 8 ... 1 9 4]\n",
            "Accuracy: 0.386609756097561\n",
            "Iteration:  40\n",
            "[8 4 8 ... 1 8 4] [7 3 8 ... 1 9 4]\n",
            "Accuracy: 0.44078048780487805\n",
            "Iteration:  50\n",
            "[8 4 8 ... 1 8 4] [7 3 8 ... 1 9 4]\n",
            "Accuracy: 0.4831951219512195\n",
            "Iteration:  60\n",
            "[8 9 8 ... 1 8 4] [7 3 8 ... 1 9 4]\n",
            "Accuracy: 0.5206585365853659\n",
            "Iteration:  70\n",
            "[7 8 8 ... 1 8 4] [7 3 8 ... 1 9 4]\n",
            "Accuracy: 0.5559268292682927\n",
            "Iteration:  80\n",
            "[7 8 8 ... 1 8 4] [7 3 8 ... 1 9 4]\n",
            "Accuracy: 0.5886097560975609\n",
            "Iteration:  90\n",
            "[7 8 3 ... 1 8 4] [7 3 8 ... 1 9 4]\n",
            "Accuracy: 0.617609756097561\n",
            "Iteration:  100\n",
            "[7 8 3 ... 1 8 4] [7 3 8 ... 1 9 4]\n",
            "Accuracy: 0.6428536585365854\n",
            "Iteration:  110\n",
            "[7 8 3 ... 1 8 4] [7 3 8 ... 1 9 4]\n",
            "Accuracy: 0.6640975609756098\n",
            "Iteration:  120\n",
            "[7 8 3 ... 1 8 4] [7 3 8 ... 1 9 4]\n",
            "Accuracy: 0.6814634146341464\n",
            "Iteration:  130\n",
            "[7 8 3 ... 1 8 4] [7 3 8 ... 1 9 4]\n",
            "Accuracy: 0.6976341463414634\n",
            "Iteration:  140\n",
            "[7 8 3 ... 1 8 4] [7 3 8 ... 1 9 4]\n",
            "Accuracy: 0.7122926829268292\n",
            "Iteration:  150\n",
            "[7 8 3 ... 1 8 4] [7 3 8 ... 1 9 4]\n",
            "Accuracy: 0.7250243902439024\n",
            "Iteration:  160\n",
            "[7 8 3 ... 1 8 4] [7 3 8 ... 1 9 4]\n",
            "Accuracy: 0.7366585365853658\n",
            "Iteration:  170\n",
            "[7 8 3 ... 1 8 4] [7 3 8 ... 1 9 4]\n",
            "Accuracy: 0.747219512195122\n",
            "Iteration:  180\n",
            "[7 8 8 ... 1 9 4] [7 3 8 ... 1 9 4]\n",
            "Accuracy: 0.7562682926829268\n",
            "Iteration:  190\n",
            "[7 8 8 ... 1 9 4] [7 3 8 ... 1 9 4]\n",
            "Accuracy: 0.7641707317073171\n",
            "Iteration:  200\n",
            "[7 8 8 ... 1 9 4] [7 3 8 ... 1 9 4]\n",
            "Accuracy: 0.7710243902439025\n",
            "Iteration:  210\n",
            "[7 8 8 ... 1 9 4] [7 3 8 ... 1 9 4]\n",
            "Accuracy: 0.778219512195122\n",
            "Iteration:  220\n",
            "[7 8 8 ... 1 9 4] [7 3 8 ... 1 9 4]\n",
            "Accuracy: 0.783829268292683\n",
            "Iteration:  230\n",
            "[7 8 8 ... 1 9 4] [7 3 8 ... 1 9 4]\n",
            "Accuracy: 0.7895609756097561\n",
            "Iteration:  240\n",
            "[7 3 8 ... 1 9 4] [7 3 8 ... 1 9 4]\n",
            "Accuracy: 0.7941707317073171\n",
            "Iteration:  250\n",
            "[7 3 8 ... 1 9 4] [7 3 8 ... 1 9 4]\n",
            "Accuracy: 0.7991219512195122\n",
            "Iteration:  260\n",
            "[7 3 8 ... 1 9 4] [7 3 8 ... 1 9 4]\n",
            "Accuracy: 0.8038780487804879\n",
            "Iteration:  270\n",
            "[7 3 8 ... 1 9 4] [7 3 8 ... 1 9 4]\n",
            "Accuracy: 0.8076341463414635\n",
            "Iteration:  280\n",
            "[7 3 8 ... 1 9 4] [7 3 8 ... 1 9 4]\n",
            "Accuracy: 0.8110731707317074\n",
            "Iteration:  290\n",
            "[7 3 8 ... 1 9 4] [7 3 8 ... 1 9 4]\n",
            "Accuracy: 0.8146829268292682\n",
            "Iteration:  300\n",
            "[7 3 8 ... 1 9 4] [7 3 8 ... 1 9 4]\n",
            "Accuracy: 0.8185365853658536\n",
            "Iteration:  310\n",
            "[7 3 8 ... 1 9 4] [7 3 8 ... 1 9 4]\n",
            "Accuracy: 0.8218048780487804\n",
            "Iteration:  320\n",
            "[7 3 8 ... 3 9 4] [7 3 8 ... 1 9 4]\n",
            "Accuracy: 0.8243658536585365\n",
            "Iteration:  330\n",
            "[7 3 8 ... 3 9 4] [7 3 8 ... 1 9 4]\n",
            "Accuracy: 0.8266097560975609\n",
            "Iteration:  340\n",
            "[7 3 8 ... 3 9 4] [7 3 8 ... 1 9 4]\n",
            "Accuracy: 0.8294878048780487\n",
            "Iteration:  350\n",
            "[7 3 8 ... 3 9 4] [7 3 8 ... 1 9 4]\n",
            "Accuracy: 0.8322195121951219\n",
            "Iteration:  360\n",
            "[7 3 8 ... 3 9 4] [7 3 8 ... 1 9 4]\n",
            "Accuracy: 0.8348536585365853\n",
            "Iteration:  370\n",
            "[7 3 8 ... 3 9 4] [7 3 8 ... 1 9 4]\n",
            "Accuracy: 0.8372682926829268\n",
            "Iteration:  380\n",
            "[7 3 8 ... 3 9 4] [7 3 8 ... 1 9 4]\n",
            "Accuracy: 0.8395365853658536\n",
            "Iteration:  390\n",
            "[7 3 8 ... 3 9 4] [7 3 8 ... 1 9 4]\n",
            "Accuracy: 0.8416341463414634\n",
            "Iteration:  400\n",
            "[7 3 8 ... 3 9 4] [7 3 8 ... 1 9 4]\n",
            "Accuracy: 0.8433658536585366\n",
            "Iteration:  410\n",
            "[7 3 8 ... 3 9 4] [7 3 8 ... 1 9 4]\n",
            "Accuracy: 0.8450487804878049\n",
            "Iteration:  420\n",
            "[7 3 8 ... 3 9 4] [7 3 8 ... 1 9 4]\n",
            "Accuracy: 0.8469268292682927\n",
            "Iteration:  430\n",
            "[7 3 8 ... 3 9 4] [7 3 8 ... 1 9 4]\n",
            "Accuracy: 0.848390243902439\n",
            "Iteration:  440\n",
            "[7 3 8 ... 3 9 4] [7 3 8 ... 1 9 4]\n",
            "Accuracy: 0.8496585365853658\n",
            "Iteration:  450\n",
            "[7 3 8 ... 3 9 4] [7 3 8 ... 1 9 4]\n",
            "Accuracy: 0.8510243902439024\n",
            "Iteration:  460\n",
            "[7 3 8 ... 3 9 4] [7 3 8 ... 1 9 4]\n",
            "Accuracy: 0.8522926829268292\n",
            "Iteration:  470\n",
            "[7 3 8 ... 3 9 4] [7 3 8 ... 1 9 4]\n",
            "Accuracy: 0.8537560975609756\n",
            "Iteration:  480\n",
            "[7 3 8 ... 3 9 4] [7 3 8 ... 1 9 4]\n",
            "Accuracy: 0.8546585365853658\n",
            "Iteration:  490\n",
            "[7 3 8 ... 3 9 4] [7 3 8 ... 1 9 4]\n",
            "Accuracy: 0.8556585365853658\n"
          ]
        }
      ]
    },
    {
      "cell_type": "code",
      "source": [
        "def make_predictions(pixels, W1, b1, W2, b2):\n",
        "    _,_,_, A2 = forward_prop(W1, b1, W2, b2, pixels)\n",
        "    return prediction(A2)\n",
        "\n",
        "def test_prediction(index, W1, b1, W2, b2):\n",
        "    current_image = train_pixels[:, index, None]\n",
        "    prediction = make_predictions(train_pixels[:, index, None], W1, b1, W2, b2)\n",
        "\n",
        "    print(\"Prediction: \", prediction)\n",
        "    print(\"Label: \", train_label[index])\n",
        "\n",
        "    current_image = current_image.reshape((28, 28)) * 255\n",
        "    plt.gray()\n",
        "    plt.imshow(current_image, interpolation='nearest')\n",
        "    plt.show()"
      ],
      "metadata": {
        "id": "_BbpWZCaiHO7"
      },
      "execution_count": 71,
      "outputs": []
    },
    {
      "cell_type": "code",
      "source": [
        "test_prediction(0, W1, b1, W2, b2)\n",
        "test_prediction(1, W1, b1, W2, b2)\n",
        "test_prediction(2, W1, b1, W2, b2)\n",
        "test_prediction(3, W1, b1, W2, b2)\n",
        "test_prediction(4, W1, b1, W2, b2)\n",
        "test_prediction(5, W1, b1, W2, b2)\n",
        "test_prediction(6, W1, b1, W2, b2)\n",
        "test_prediction(7, W1, b1, W2, b2)\n",
        "test_prediction(8, W1, b1, W2, b2)\n",
        "test_prediction(9, W1, b1, W2, b2)"
      ],
      "metadata": {
        "colab": {
          "base_uri": "https://localhost:8080/",
          "height": 1000
        },
        "id": "MIch9liOjBgy",
        "outputId": "ae041342-9261-46a8-8be5-1cdce3f2e3ee"
      },
      "execution_count": 72,
      "outputs": [
        {
          "output_type": "stream",
          "name": "stdout",
          "text": [
            "Prediction:  [7]\n",
            "Label:  7\n"
          ]
        },
        {
          "output_type": "display_data",
          "data": {
            "text/plain": [
              "<Figure size 640x480 with 1 Axes>"
            ],
            "image/png": "[encoded data removed]"
          },
          "metadata": {}
        },
        {
          "output_type": "stream",
          "name": "stdout",
          "text": [
            "Prediction:  [3]\n",
            "Label:  3\n"
          ]
        },
        {
          "output_type": "display_data",
          "data": {
            "text/plain": [
              "<Figure size 640x480 with 1 Axes>"
            ],
            "image/png": "[encoded data removed]"
          },
          "metadata": {}
        },
        {
          "output_type": "stream",
          "name": "stdout",
          "text": [
            "Prediction:  [8]\n",
            "Label:  8\n"
          ]
        },
        {
          "output_type": "display_data",
          "data": {
            "text/plain": [
              "<Figure size 640x480 with 1 Axes>"
            ],
            "image/png": "[encoded data removed]"
          },
          "metadata": {}
        },
        {
          "output_type": "stream",
          "name": "stdout",
          "text": [
            "Prediction:  [3]\n",
            "Label:  3\n"
          ]
        },
        {
          "output_type": "display_data",
          "data": {
            "text/plain": [
              "<Figure size 640x480 with 1 Axes>"
            ],
            "image/png": "[encoded data removed]"
          },
          "metadata": {}
        },
        {
          "output_type": "stream",
          "name": "stdout",
          "text": [
            "Prediction:  [6]\n",
            "Label:  6\n"
          ]
        },
        {
          "output_type": "display_data",
          "data": {
            "text/plain": [
              "<Figure size 640x480 with 1 Axes>"
            ],
            "image/png": "[encoded data removed]"
          },
          "metadata": {}
        },
        {
          "output_type": "stream",
          "name": "stdout",
          "text": [
            "Prediction:  [3]\n",
            "Label:  3\n"
          ]
        },
        {
          "output_type": "display_data",
          "data": {
            "text/plain": [
              "<Figure size 640x480 with 1 Axes>"
            ],
            "image/png": "[encoded data removed]"
          },
          "metadata": {}
        },
        {
          "output_type": "stream",
          "name": "stdout",
          "text": [
            "Prediction:  [2]\n",
            "Label:  7\n"
          ]
        },
        {
          "output_type": "display_data",
          "data": {
            "text/plain": [
              "<Figure size 640x480 with 1 Axes>"
            ],
            "image/png": "[encoded data removed]"
          },
          "metadata": {}
        },
        {
          "output_type": "stream",
          "name": "stdout",
          "text": [
            "Prediction:  [4]\n",
            "Label:  9\n"
          ]
        },
        {
          "output_type": "display_data",
          "data": {
            "text/plain": [
              "<Figure size 640x480 with 1 Axes>"
            ],
            "image/png": "[encoded data removed]"
          },
          "metadata": {}
        },
        {
          "output_type": "stream",
          "name": "stdout",
          "text": [
            "Prediction:  [7]\n",
            "Label:  3\n"
          ]
        },
        {
          "output_type": "display_data",
          "data": {
            "text/plain": [
              "<Figure size 640x480 with 1 Axes>"
            ],
            "image/png": "[encoded data removed]"
          },
          "metadata": {}
        },
        {
          "output_type": "stream",
          "name": "stdout",
          "text": [
            "Prediction:  [6]\n",
            "Label:  6\n"
          ]
        },
        {
          "output_type": "display_data",
          "data": {
            "text/plain": [
              "<Figure size 640x480 with 1 Axes>"
            ],
            "image/png": "[encoded data removed]"
          },
          "metadata": {}
        }
      ]
    },
    {
      "cell_type": "code",
      "source": [
        "dev_predictions = make_predictions(valid_pixels, W1, b1, W2, b2)\n",
        "accuracy(dev_predictions, valid_label)"
      ],
      "metadata": {
        "colab": {
          "base_uri": "https://localhost:8080/"
        },
        "id": "kU-fRJG9l2-i",
        "outputId": "0b1a7d20-842c-4846-9832-1e404d295aae"
      },
      "execution_count": 73,
      "outputs": [
        {
          "output_type": "stream",
          "name": "stdout",
          "text": [
            "[2 8 1 2 0 2 3 3 4 5 1 4 1 6 1 0 5 1 7 1 4 0 0 7 2 0 4 0 0 4 4 7 2 3 1 2 2\n",
            " 3 7 4 7 1 0 2 0 1 2 7 4 0 0 3 4 0 0 1 0 4 7 1 6 1 2 4 0 2 2 2 4 1 0 4 0 2\n",
            " 4 3 0 1 7 1 0 0 0 0 7 3 7 1 4 1 4 4 0 4 0 2 0 4 2 0 8 4 7 0 4 1 1 8 3 2 0\n",
            " 1 1 4 3 1 4 6 1 4 8 2 2 4 2 1 1 1 7 2 0 0 0 4 0 0 7 4 2 2 4 0 3 0 9 3 2 7\n",
            " 3 0 1 1 0 0 2 8 4 6 6 4 0 6 0 2 0 4 4 4 2 3 1 2 0 7 0 1 2 2 1 1 1 0 1 7 0\n",
            " 2 7 4 1 2 4 2 3 4 5 2 4 3 2 2 0 0 1 4 2 4 2 2 4 0 6 2 0 4 3 2 0 2 1 1 3 1\n",
            " 4 7 2 1 0 0 0 3 0 0 2 4 7 0 2 3 0 3 3 4 0 4 2 3 4 2 4 7 1 0 4 3 4 2 2 0 3\n",
            " 2 7 0 1 0 1 4 4 3 2 1 4 4 2 4 3 2 5 4 3 1 2 7 1 0 7 1 3 9 4 2 2 0 3 3 4 1\n",
            " 1 0 2 5 4 0 7 5 2 7 4 4 2 2 4 3 2 1 1 0 4 1 1 2 0 1 0 2 4 7 3 1 7 4 0 0 3\n",
            " 5 6 4 1 4 2 4 1 8 2 2 7 7 3 4 2 6 4 5 0 1 0 5 7 2 4 2 0 4 2 0 1 5 4 2 1 2\n",
            " 0 4 7 2 7 4 2 2 3 1 0 1 1 2 0 2 7 3 2 1 3 8 0 7 1 1 3 4 4 7 4 2 2 7 0 2 2\n",
            " 3 1 4 4 2 0 4 2 4 3 1 0 8 0 0 3 6 7 1 4 4 1 9 2 0 1 2 0 0 1 1 4 0 1 2 3 2\n",
            " 4 1 1 5 1 3 2 0 4 2 0 4 0 3 7 2 1 1 4 7 1 1 6 2 5 3 6 1 7 3 2 0 2 0 4 4 1\n",
            " 0 3 7 2 4 2 4 4 0 2 1 1 4 5 7 4 4 1 2 7 4 8 4 2 0 0 5 2 8 8 2 0 3 3 2 3 3\n",
            " 0 2 0 0 0 3 1 4 7 0 0 7 0 4 0 1 4 0 4 2 6 5 6 2 7 2 1 1 4 6 1 5 8 4 7 4 0\n",
            " 4 4 7 8 5 1 6 1 2 4 7 2 3 0 5 5 1 3 7 4 5 5 2 0 4 4 3 3 5 7 0 7 1 2 1 8 3\n",
            " 7 0 0 4 1 0 3 7 1 2 4 2 4 1 2 5 0 2 2 1 4 7 0 5 2 4 2 2 4 7 0 7 4 8 0 2 7\n",
            " 1 2 3 4 1 0 4 7 1 2 4 0 7 0 1 2 0 1 0 5 1 0 1 2 7 5 5 2 2 0 3 7 1 7 1 3 0\n",
            " 9 2 2 4 0 2 3 2 1 1 2 2 0 3 1 1 1 4 4 2 1 2 0 7 4 1 7 3 4 1 7 5 3 3 1 1 2\n",
            " 2 3 2 1 4 1 0 2 1 3 2 4 2 4 0 5 4 4 0 2 4 1 2 3 7 8 1 0 4 8 0 1 1 6 1 0 0\n",
            " 4 4 5 4 3 3 1 2 3 4 4 3 5 0 4 7 4 4 7 4 4 4 0 5 1 1 0 3 0 2 0 1 1 2 4 4 4\n",
            " 2 4 7 4 5 4 0 4 2 6 7 7 0 2 4 8 4 4 1 2 7 2 4 0 1 1 4 5 5 7 2 4 4 2 1 0 7\n",
            " 2 0 3 7 1 4 0 2 3 1 4 2 0 4 4 4 4 0 6 0 0 4 0 1 4 4 2 1 0 1 0 1 5 2 7 2 1\n",
            " 1 2 6 0 4 0 2 1 2 4 4 2 4 1 0 4 4 4 4 7 2 4 1 4 4 1 2 7 2 1 8 0 4 2 2 0 1\n",
            " 1 0 2 3 1 4 5 4 8 1 4 5 4 4 9 0 0 7 8 3 3 2 4 2 4 0 4 7 7 7 1 2 0 0 1 1 2\n",
            " 0 2 7 4 2 1 9 3 7 7 4 4 4 0 1 3 1 2 2 4 0 7 1 1 0 0 7 8 0 4 8 1 1 0 4 4 1\n",
            " 3 4 0 2 2 0 7 2 1 0 0 2 4 3 0 0 2 8 2 4 0 4 2 1 0 0 2 1 2 2 2 6 7 4 2 4 1\n",
            " 2] [3 8 1 6 5 8 3 5 4 8 1 4 1 6 1 5 5 6 7 1 9 6 0 7 6 0 4 8 8 4 4 7 2 3 1 6 2\n",
            " 3 7 4 7 1 6 2 6 1 8 9 4 0 0 3 4 0 3 1 0 9 7 1 6 1 6 9 0 8 8 2 4 1 6 9 5 8\n",
            " 9 5 0 1 5 1 6 9 0 6 7 9 7 1 4 1 9 9 0 6 0 2 5 9 2 0 8 4 7 6 4 1 2 8 3 3 6\n",
            " 1 1 4 3 1 4 6 1 9 8 6 2 4 2 1 2 1 7 1 0 0 0 4 0 7 7 4 2 8 4 0 8 7 4 3 2 7\n",
            " 8 0 1 1 0 6 6 8 4 6 6 4 0 6 0 6 0 4 9 9 2 7 3 2 5 7 2 1 6 2 3 6 2 8 7 9 0\n",
            " 3 6 4 1 6 9 2 3 4 8 8 9 3 6 2 7 0 1 6 3 9 3 2 8 5 6 2 0 9 3 8 0 0 1 1 3 1\n",
            " 4 7 7 1 0 0 0 5 5 3 3 4 9 5 2 1 0 3 8 4 0 4 6 3 9 2 9 7 1 0 7 3 8 6 6 0 3\n",
            " 6 7 6 1 7 1 9 9 8 2 1 4 4 7 4 8 2 4 9 3 8 3 7 2 0 9 1 3 4 6 6 6 0 5 3 9 1\n",
            " 1 5 5 8 4 0 9 5 2 7 4 5 2 3 9 5 6 1 1 0 4 1 1 2 0 1 6 8 6 5 8 3 7 8 0 7 8\n",
            " 8 6 4 1 4 3 4 1 6 2 3 7 7 3 4 3 6 4 5 0 6 8 5 7 2 9 2 0 9 2 2 1 8 5 2 1 8\n",
            " 0 9 9 6 7 5 5 2 8 1 0 3 1 1 0 8 7 8 3 1 3 5 5 7 1 1 5 4 8 9 4 6 8 7 7 6 6\n",
            " 3 1 4 9 8 0 4 6 4 3 1 5 8 0 2 5 6 7 3 9 4 1 4 2 0 1 5 0 0 1 1 9 6 1 6 8 2\n",
            " 9 2 1 8 3 9 6 0 9 8 0 4 0 5 7 3 1 1 4 7 1 1 6 6 5 3 6 1 7 3 6 0 4 8 4 9 1\n",
            " 2 8 7 2 6 2 4 9 5 2 1 1 9 9 7 9 4 1 2 7 9 8 0 2 0 0 5 3 8 8 6 5 8 2 3 8 3\n",
            " 0 6 0 0 0 5 1 9 7 0 0 7 0 4 0 9 9 0 9 8 6 5 6 8 7 6 8 7 9 6 1 8 8 4 7 4 0\n",
            " 6 4 7 4 8 1 6 1 2 9 7 2 3 0 5 5 1 8 7 5 5 8 2 0 4 9 5 3 5 7 6 9 1 8 1 8 8\n",
            " 7 0 5 4 9 7 3 7 1 2 9 6 9 1 6 5 0 3 6 1 9 7 5 6 4 8 8 6 4 7 0 7 7 5 0 2 8\n",
            " 7 2 3 4 1 0 4 7 1 6 4 0 9 5 3 8 0 2 5 5 1 7 2 2 9 5 5 2 3 0 3 7 1 7 3 8 0\n",
            " 0 6 2 9 0 6 5 2 1 6 2 6 6 8 1 1 2 4 5 2 1 4 7 7 4 1 9 8 4 7 7 5 3 3 1 1 6\n",
            " 9 3 3 1 4 1 0 2 1 3 6 6 8 4 0 8 4 5 0 6 9 2 6 5 7 8 1 5 4 8 0 3 1 6 1 0 0\n",
            " 4 9 8 4 3 3 3 8 3 4 9 3 5 6 7 7 9 4 7 9 4 4 6 8 9 1 6 8 5 5 5 1 3 2 4 4 4\n",
            " 6 9 9 9 5 4 0 4 2 6 9 9 5 6 4 8 9 4 1 6 7 2 4 0 1 1 4 5 5 9 6 4 4 2 1 5 7\n",
            " 2 0 8 7 1 4 0 2 3 1 9 6 6 9 9 9 6 0 6 0 5 9 6 1 9 7 8 1 0 1 0 1 8 8 7 2 1\n",
            " 2 3 6 5 4 0 3 1 2 4 4 2 4 7 7 4 9 4 9 7 8 9 2 9 4 1 2 7 6 1 8 0 4 4 6 0 1\n",
            " 1 6 2 3 1 4 5 9 5 1 9 3 4 4 5 5 0 7 8 3 5 2 5 3 5 7 4 7 7 9 1 2 3 5 1 1 8\n",
            " 0 3 7 9 2 1 4 8 7 7 4 8 9 5 1 3 1 6 2 4 6 7 1 1 7 5 7 2 5 4 5 9 1 6 4 4 1\n",
            " 8 4 0 6 2 8 7 6 1 7 2 8 4 3 0 0 6 8 2 4 5 9 6 2 5 0 6 1 8 3 6 6 9 7 3 9 1\n",
            " 2]\n"
          ]
        },
        {
          "output_type": "stream",
          "name": "stderr",
          "text": [
            "<ipython-input-64-8e8d8b438719>:23: RuntimeWarning: overflow encountered in exp\n",
            "  return np.exp(Z) / sum(np.exp(Z))\n",
            "<ipython-input-64-8e8d8b438719>:23: RuntimeWarning: invalid value encountered in divide\n",
            "  return np.exp(Z) / sum(np.exp(Z))\n"
          ]
        },
        {
          "output_type": "execute_result",
          "data": {
            "text/plain": [
              "np.float64(0.573)"
            ]
          },
          "metadata": {},
          "execution_count": 73
        }
      ]
    }
  ]
}